{
  "nbformat": 4,
  "nbformat_minor": 0,
  "metadata": {
    "colab": {
      "name": "Project 1 - Final regression (Core).ipynb",
      "provenance": [],
      "collapsed_sections": [],
      "mount_file_id": "1_6IpfawB85ft35yCYwNt6iuI91LJVC1s",
      "authorship_tag": "ABX9TyMrrW0QBV7OyHAoYg+OhjrJ",
      "include_colab_link": true
    },
    "kernelspec": {
      "name": "python3",
      "display_name": "Python 3"
    },
    "language_info": {
      "name": "python"
    }
  },
  "cells": [
    {
      "cell_type": "markdown",
      "metadata": {
        "id": "view-in-github",
        "colab_type": "text"
      },
      "source": [
        "<a href=\"https://colab.research.google.com/github/Rafal-Wawrzak/Fianal_One/blob/main/Project_1_Final_regression_(Core).ipynb\" target=\"_parent\"><img src=\"https://colab.research.google.com/assets/colab-badge.svg\" alt=\"Open In Colab\"/></a>"
      ]
    },
    {
      "cell_type": "code",
      "source": [
        "#pandas\n",
        "import pandas as pd\n",
        "\n",
        "#Visual Exploration\n",
        "import matplotlib.pyplot as plt\n",
        "import seaborn as sns\n",
        "import numpy as np\n",
        "\n",
        "#Meching Learning Items\n",
        "from sklearn.model_selection import train_test_split\n",
        "\n",
        "from sklearn import set_config\n",
        "set_config(display='diagram')\n",
        "\n",
        "from sklearn.pipeline import make_pipeline\n",
        "from sklearn.compose import make_column_selector, make_column_transformer\n",
        "from sklearn.impute import SimpleImputer\n",
        "from sklearn.preprocessing import OneHotEncoder\n",
        "from sklearn.preprocessing import StandardScaler\n",
        "\n",
        "from sklearn.linear_model import LinearRegression\n",
        "\n",
        "from sklearn.metrics import mean_squared_error, mean_absolute_error, r2_score\n",
        "from sklearn.compose import make_column_selector, make_column_transformer\n",
        "\n",
        "from sklearn.tree import DecisionTreeRegressor\n",
        "\n",
        "# Import the bagging regressor\n",
        "from sklearn.ensemble import BaggingRegressor\n",
        "\n",
        "# Import random forest Regressor\n",
        "from sklearn.ensemble import RandomForestRegressor"
      ],
      "metadata": {
        "id": "vQAVs91I1ywZ"
      },
      "execution_count": 1,
      "outputs": []
    },
    {
      "cell_type": "code",
      "source": [
        "#enter path for CSV, or Excel\n",
        "path = '/content/drive/MyDrive/Boot  Camp/Project one/sales_predictions.csv'"
      ],
      "metadata": {
        "id": "C0YFK6PKAXQF"
      },
      "execution_count": 2,
      "outputs": []
    },
    {
      "cell_type": "code",
      "source": [
        "##################################\n",
        "# Comment out the one not needed #\n",
        "##################################\n",
        "df = pd.read_csv(path) #excel Load "
      ],
      "metadata": {
        "id": "FaajE-h7KyE7"
      },
      "execution_count": 3,
      "outputs": []
    },
    {
      "cell_type": "code",
      "source": [
        "def evaluate_model(y_true, y_pred):\n",
        "  \"\"\"takes two arrays, true labels and predicted labels, and prints\n",
        "  MAE, MSE, RMSE, and R2 metrics\"\"\"\n",
        "  mae = mean_absolute_error(y_true, y_pred)\n",
        "  mse = mean_squared_error(y_true, y_pred)\n",
        "  r2 = r2_score(y_true, y_pred)\n",
        "  rmse = np.sqrt(mse)\n",
        "  print(f'MAE {mae}\\n MSE {mse}\\n R^2 {r2}\\n RMSE {rmse}')"
      ],
      "metadata": {
        "id": "y2lX8ccgM8jf"
      },
      "execution_count": 4,
      "outputs": []
    },
    {
      "cell_type": "code",
      "source": [
        "df.info()"
      ],
      "metadata": {
        "colab": {
          "base_uri": "https://localhost:8080/"
        },
        "id": "l0ABhPheJemU",
        "outputId": "4e81bbc9-431d-428f-971b-481308ce053f"
      },
      "execution_count": 5,
      "outputs": [
        {
          "output_type": "stream",
          "name": "stdout",
          "text": [
            "<class 'pandas.core.frame.DataFrame'>\n",
            "RangeIndex: 8523 entries, 0 to 8522\n",
            "Data columns (total 12 columns):\n",
            " #   Column                     Non-Null Count  Dtype  \n",
            "---  ------                     --------------  -----  \n",
            " 0   Item_Identifier            8523 non-null   object \n",
            " 1   Item_Weight                7060 non-null   float64\n",
            " 2   Item_Fat_Content           8523 non-null   object \n",
            " 3   Item_Visibility            8523 non-null   float64\n",
            " 4   Item_Type                  8523 non-null   object \n",
            " 5   Item_MRP                   8523 non-null   float64\n",
            " 6   Outlet_Identifier          8523 non-null   object \n",
            " 7   Outlet_Establishment_Year  8523 non-null   int64  \n",
            " 8   Outlet_Size                6113 non-null   object \n",
            " 9   Outlet_Location_Type       8523 non-null   object \n",
            " 10  Outlet_Type                8523 non-null   object \n",
            " 11  Item_Outlet_Sales          8523 non-null   float64\n",
            "dtypes: float64(4), int64(1), object(7)\n",
            "memory usage: 799.2+ KB\n"
          ]
        }
      ]
    },
    {
      "cell_type": "markdown",
      "source": [
        "#Tree Regression"
      ],
      "metadata": {
        "id": "CdqvjY7TJSwT"
      }
    },
    {
      "cell_type": "code",
      "source": [
        "y = df['Item_Outlet_Sales']\n",
        "X = df.drop(columns = 'Item_Outlet_Sales')\n",
        "# Train test split\n",
        "X_train, X_test, y_train, y_test = train_test_split(X, y, random_state = 42)"
      ],
      "metadata": {
        "id": "7yte3LbFOu1Z"
      },
      "execution_count": 6,
      "outputs": []
    },
    {
      "cell_type": "code",
      "source": [
        "dec_tree = DecisionTreeRegressor( max_depth = 4, random_state = 42)"
      ],
      "metadata": {
        "id": "fkMA-7LZO5xX"
      },
      "execution_count": 7,
      "outputs": []
    },
    {
      "cell_type": "code",
      "source": [
        "num_selector = make_column_selector(dtype_include='number')\n",
        "cat_selector = make_column_selector(dtype_include='object')\n",
        "\n",
        "num_columns = num_selector(X_train)\n",
        "cat_columns = cat_selector(X_train)\n",
        "\n",
        "median_imputer = SimpleImputer(strategy='median')\n",
        "freq_imputer = SimpleImputer(strategy='most_frequent')\n",
        "\n",
        "median_imputer.fit(X_train[num_columns])\n",
        "freq_imputer.fit(X_train[cat_columns])\n",
        "\n",
        "X_train.loc[:, num_columns] = median_imputer.transform(X_train[num_columns])\n",
        "X_test.loc[:, num_columns] = median_imputer.transform(X_test[num_columns])\n",
        "\n",
        "X_train.loc[:, cat_columns] = freq_imputer.transform(X_train[cat_columns])\n",
        "X_test.loc[:, cat_columns] = freq_imputer.transform(X_test[cat_columns])\n",
        "\n",
        "scaler = StandardScaler()\n",
        "ohe_encoder = OneHotEncoder(sparse=False, handle_unknown='ignore')\n",
        "\n",
        "num_tuple = (scaler, num_selector)\n",
        "cat_tuple = (ohe_encoder, cat_selector)\n",
        "\n",
        "col_trans = make_column_transformer(num_tuple, cat_tuple, remainder = 'passthrough')\n",
        "lin_reg = LinearRegression()\n",
        "\n",
        "pipe = make_pipeline(col_trans, dec_tree)"
      ],
      "metadata": {
        "id": "Y53k3ru4PB1c"
      },
      "execution_count": 8,
      "outputs": []
    },
    {
      "cell_type": "code",
      "source": [
        "pipe.fit(X_train,y_train)"
      ],
      "metadata": {
        "colab": {
          "base_uri": "https://localhost:8080/",
          "height": 192
        },
        "id": "CiqpQlZqPyV8",
        "outputId": "46559f63-e891-4569-8687-48fe5bb9c4d0"
      },
      "execution_count": 9,
      "outputs": [
        {
          "output_type": "execute_result",
          "data": {
            "text/html": [
              "<style>#sk-184429df-b985-4c55-8773-834081720776 {color: black;background-color: white;}#sk-184429df-b985-4c55-8773-834081720776 pre{padding: 0;}#sk-184429df-b985-4c55-8773-834081720776 div.sk-toggleable {background-color: white;}#sk-184429df-b985-4c55-8773-834081720776 label.sk-toggleable__label {cursor: pointer;display: block;width: 100%;margin-bottom: 0;padding: 0.3em;box-sizing: border-box;text-align: center;}#sk-184429df-b985-4c55-8773-834081720776 label.sk-toggleable__label-arrow:before {content: \"▸\";float: left;margin-right: 0.25em;color: #696969;}#sk-184429df-b985-4c55-8773-834081720776 label.sk-toggleable__label-arrow:hover:before {color: black;}#sk-184429df-b985-4c55-8773-834081720776 div.sk-estimator:hover label.sk-toggleable__label-arrow:before {color: black;}#sk-184429df-b985-4c55-8773-834081720776 div.sk-toggleable__content {max-height: 0;max-width: 0;overflow: hidden;text-align: left;background-color: #f0f8ff;}#sk-184429df-b985-4c55-8773-834081720776 div.sk-toggleable__content pre {margin: 0.2em;color: black;border-radius: 0.25em;background-color: #f0f8ff;}#sk-184429df-b985-4c55-8773-834081720776 input.sk-toggleable__control:checked~div.sk-toggleable__content {max-height: 200px;max-width: 100%;overflow: auto;}#sk-184429df-b985-4c55-8773-834081720776 input.sk-toggleable__control:checked~label.sk-toggleable__label-arrow:before {content: \"▾\";}#sk-184429df-b985-4c55-8773-834081720776 div.sk-estimator input.sk-toggleable__control:checked~label.sk-toggleable__label {background-color: #d4ebff;}#sk-184429df-b985-4c55-8773-834081720776 div.sk-label input.sk-toggleable__control:checked~label.sk-toggleable__label {background-color: #d4ebff;}#sk-184429df-b985-4c55-8773-834081720776 input.sk-hidden--visually {border: 0;clip: rect(1px 1px 1px 1px);clip: rect(1px, 1px, 1px, 1px);height: 1px;margin: -1px;overflow: hidden;padding: 0;position: absolute;width: 1px;}#sk-184429df-b985-4c55-8773-834081720776 div.sk-estimator {font-family: monospace;background-color: #f0f8ff;border: 1px dotted black;border-radius: 0.25em;box-sizing: border-box;margin-bottom: 0.5em;}#sk-184429df-b985-4c55-8773-834081720776 div.sk-estimator:hover {background-color: #d4ebff;}#sk-184429df-b985-4c55-8773-834081720776 div.sk-parallel-item::after {content: \"\";width: 100%;border-bottom: 1px solid gray;flex-grow: 1;}#sk-184429df-b985-4c55-8773-834081720776 div.sk-label:hover label.sk-toggleable__label {background-color: #d4ebff;}#sk-184429df-b985-4c55-8773-834081720776 div.sk-serial::before {content: \"\";position: absolute;border-left: 1px solid gray;box-sizing: border-box;top: 2em;bottom: 0;left: 50%;}#sk-184429df-b985-4c55-8773-834081720776 div.sk-serial {display: flex;flex-direction: column;align-items: center;background-color: white;padding-right: 0.2em;padding-left: 0.2em;}#sk-184429df-b985-4c55-8773-834081720776 div.sk-item {z-index: 1;}#sk-184429df-b985-4c55-8773-834081720776 div.sk-parallel {display: flex;align-items: stretch;justify-content: center;background-color: white;}#sk-184429df-b985-4c55-8773-834081720776 div.sk-parallel::before {content: \"\";position: absolute;border-left: 1px solid gray;box-sizing: border-box;top: 2em;bottom: 0;left: 50%;}#sk-184429df-b985-4c55-8773-834081720776 div.sk-parallel-item {display: flex;flex-direction: column;position: relative;background-color: white;}#sk-184429df-b985-4c55-8773-834081720776 div.sk-parallel-item:first-child::after {align-self: flex-end;width: 50%;}#sk-184429df-b985-4c55-8773-834081720776 div.sk-parallel-item:last-child::after {align-self: flex-start;width: 50%;}#sk-184429df-b985-4c55-8773-834081720776 div.sk-parallel-item:only-child::after {width: 0;}#sk-184429df-b985-4c55-8773-834081720776 div.sk-dashed-wrapped {border: 1px dashed gray;margin: 0 0.4em 0.5em 0.4em;box-sizing: border-box;padding-bottom: 0.4em;background-color: white;position: relative;}#sk-184429df-b985-4c55-8773-834081720776 div.sk-label label {font-family: monospace;font-weight: bold;background-color: white;display: inline-block;line-height: 1.2em;}#sk-184429df-b985-4c55-8773-834081720776 div.sk-label-container {position: relative;z-index: 2;text-align: center;}#sk-184429df-b985-4c55-8773-834081720776 div.sk-container {/* jupyter's `normalize.less` sets `[hidden] { display: none; }` but bootstrap.min.css set `[hidden] { display: none !important; }` so we also need the `!important` here to be able to override the default hidden behavior on the sphinx rendered scikit-learn.org. See: https://github.com/scikit-learn/scikit-learn/issues/21755 */display: inline-block !important;position: relative;}#sk-184429df-b985-4c55-8773-834081720776 div.sk-text-repr-fallback {display: none;}</style><div id=\"sk-184429df-b985-4c55-8773-834081720776\" class=\"sk-top-container\"><div class=\"sk-text-repr-fallback\"><pre>Pipeline(steps=[(&#x27;columntransformer&#x27;,\n",
              "                 ColumnTransformer(remainder=&#x27;passthrough&#x27;,\n",
              "                                   transformers=[(&#x27;standardscaler&#x27;,\n",
              "                                                  StandardScaler(),\n",
              "                                                  &lt;sklearn.compose._column_transformer.make_column_selector object at 0x7f22f6bf6310&gt;),\n",
              "                                                 (&#x27;onehotencoder&#x27;,\n",
              "                                                  OneHotEncoder(handle_unknown=&#x27;ignore&#x27;,\n",
              "                                                                sparse=False),\n",
              "                                                  &lt;sklearn.compose._column_transformer.make_column_selector object at 0x7f22f6bf62d0&gt;)])),\n",
              "                (&#x27;decisiontreeregressor&#x27;,\n",
              "                 DecisionTreeRegressor(max_depth=4, random_state=42))])</pre><b>Please rerun this cell to show the HTML repr or trust the notebook.</b></div><div class=\"sk-container\" hidden><div class=\"sk-item sk-dashed-wrapped\"><div class=\"sk-label-container\"><div class=\"sk-label sk-toggleable\"><input class=\"sk-toggleable__control sk-hidden--visually\" id=\"1b797d57-94c6-4e81-9a73-8686036b9493\" type=\"checkbox\" ><label for=\"1b797d57-94c6-4e81-9a73-8686036b9493\" class=\"sk-toggleable__label sk-toggleable__label-arrow\">Pipeline</label><div class=\"sk-toggleable__content\"><pre>Pipeline(steps=[(&#x27;columntransformer&#x27;,\n",
              "                 ColumnTransformer(remainder=&#x27;passthrough&#x27;,\n",
              "                                   transformers=[(&#x27;standardscaler&#x27;,\n",
              "                                                  StandardScaler(),\n",
              "                                                  &lt;sklearn.compose._column_transformer.make_column_selector object at 0x7f22f6bf6310&gt;),\n",
              "                                                 (&#x27;onehotencoder&#x27;,\n",
              "                                                  OneHotEncoder(handle_unknown=&#x27;ignore&#x27;,\n",
              "                                                                sparse=False),\n",
              "                                                  &lt;sklearn.compose._column_transformer.make_column_selector object at 0x7f22f6bf62d0&gt;)])),\n",
              "                (&#x27;decisiontreeregressor&#x27;,\n",
              "                 DecisionTreeRegressor(max_depth=4, random_state=42))])</pre></div></div></div><div class=\"sk-serial\"><div class=\"sk-item sk-dashed-wrapped\"><div class=\"sk-label-container\"><div class=\"sk-label sk-toggleable\"><input class=\"sk-toggleable__control sk-hidden--visually\" id=\"2957d554-59ad-4ef4-8026-9ed080cf1d7f\" type=\"checkbox\" ><label for=\"2957d554-59ad-4ef4-8026-9ed080cf1d7f\" class=\"sk-toggleable__label sk-toggleable__label-arrow\">columntransformer: ColumnTransformer</label><div class=\"sk-toggleable__content\"><pre>ColumnTransformer(remainder=&#x27;passthrough&#x27;,\n",
              "                  transformers=[(&#x27;standardscaler&#x27;, StandardScaler(),\n",
              "                                 &lt;sklearn.compose._column_transformer.make_column_selector object at 0x7f22f6bf6310&gt;),\n",
              "                                (&#x27;onehotencoder&#x27;,\n",
              "                                 OneHotEncoder(handle_unknown=&#x27;ignore&#x27;,\n",
              "                                               sparse=False),\n",
              "                                 &lt;sklearn.compose._column_transformer.make_column_selector object at 0x7f22f6bf62d0&gt;)])</pre></div></div></div><div class=\"sk-parallel\"><div class=\"sk-parallel-item\"><div class=\"sk-item\"><div class=\"sk-label-container\"><div class=\"sk-label sk-toggleable\"><input class=\"sk-toggleable__control sk-hidden--visually\" id=\"cad9eb76-6b35-44bd-a418-4e95d311b18e\" type=\"checkbox\" ><label for=\"cad9eb76-6b35-44bd-a418-4e95d311b18e\" class=\"sk-toggleable__label sk-toggleable__label-arrow\">standardscaler</label><div class=\"sk-toggleable__content\"><pre>&lt;sklearn.compose._column_transformer.make_column_selector object at 0x7f22f6bf6310&gt;</pre></div></div></div><div class=\"sk-serial\"><div class=\"sk-item\"><div class=\"sk-estimator sk-toggleable\"><input class=\"sk-toggleable__control sk-hidden--visually\" id=\"d32b0679-34a0-4e2f-8feb-26defd78ec08\" type=\"checkbox\" ><label for=\"d32b0679-34a0-4e2f-8feb-26defd78ec08\" class=\"sk-toggleable__label sk-toggleable__label-arrow\">StandardScaler</label><div class=\"sk-toggleable__content\"><pre>StandardScaler()</pre></div></div></div></div></div></div><div class=\"sk-parallel-item\"><div class=\"sk-item\"><div class=\"sk-label-container\"><div class=\"sk-label sk-toggleable\"><input class=\"sk-toggleable__control sk-hidden--visually\" id=\"be1903f6-6270-4341-b96a-18a14e4451df\" type=\"checkbox\" ><label for=\"be1903f6-6270-4341-b96a-18a14e4451df\" class=\"sk-toggleable__label sk-toggleable__label-arrow\">onehotencoder</label><div class=\"sk-toggleable__content\"><pre>&lt;sklearn.compose._column_transformer.make_column_selector object at 0x7f22f6bf62d0&gt;</pre></div></div></div><div class=\"sk-serial\"><div class=\"sk-item\"><div class=\"sk-estimator sk-toggleable\"><input class=\"sk-toggleable__control sk-hidden--visually\" id=\"8e439cc3-702c-489c-8a40-61b0b526bfe5\" type=\"checkbox\" ><label for=\"8e439cc3-702c-489c-8a40-61b0b526bfe5\" class=\"sk-toggleable__label sk-toggleable__label-arrow\">OneHotEncoder</label><div class=\"sk-toggleable__content\"><pre>OneHotEncoder(handle_unknown=&#x27;ignore&#x27;, sparse=False)</pre></div></div></div></div></div></div><div class=\"sk-parallel-item\"><div class=\"sk-item\"><div class=\"sk-label-container\"><div class=\"sk-label sk-toggleable\"><input class=\"sk-toggleable__control sk-hidden--visually\" id=\"5a30c7e1-646e-4421-ac92-97b048889a0f\" type=\"checkbox\" ><label for=\"5a30c7e1-646e-4421-ac92-97b048889a0f\" class=\"sk-toggleable__label sk-toggleable__label-arrow\">remainder</label><div class=\"sk-toggleable__content\"><pre>[]</pre></div></div></div><div class=\"sk-serial\"><div class=\"sk-item\"><div class=\"sk-estimator sk-toggleable\"><input class=\"sk-toggleable__control sk-hidden--visually\" id=\"d30a0d51-523a-4c48-9cb2-11099b2f18c4\" type=\"checkbox\" ><label for=\"d30a0d51-523a-4c48-9cb2-11099b2f18c4\" class=\"sk-toggleable__label sk-toggleable__label-arrow\">passthrough</label><div class=\"sk-toggleable__content\"><pre>passthrough</pre></div></div></div></div></div></div></div></div><div class=\"sk-item\"><div class=\"sk-estimator sk-toggleable\"><input class=\"sk-toggleable__control sk-hidden--visually\" id=\"79106fd4-bfc6-4b65-9d1c-1700f115a420\" type=\"checkbox\" ><label for=\"79106fd4-bfc6-4b65-9d1c-1700f115a420\" class=\"sk-toggleable__label sk-toggleable__label-arrow\">DecisionTreeRegressor</label><div class=\"sk-toggleable__content\"><pre>DecisionTreeRegressor(max_depth=4, random_state=42)</pre></div></div></div></div></div></div></div>"
            ],
            "text/plain": [
              "Pipeline(steps=[('columntransformer',\n",
              "                 ColumnTransformer(remainder='passthrough',\n",
              "                                   transformers=[('standardscaler',\n",
              "                                                  StandardScaler(),\n",
              "                                                  <sklearn.compose._column_transformer.make_column_selector object at 0x7f22f6bf6310>),\n",
              "                                                 ('onehotencoder',\n",
              "                                                  OneHotEncoder(handle_unknown='ignore',\n",
              "                                                                sparse=False),\n",
              "                                                  <sklearn.compose._column_transformer.make_column_selector object at 0x7f22f6bf62d0>)])),\n",
              "                ('decisiontreeregressor',\n",
              "                 DecisionTreeRegressor(max_depth=4, random_state=42))])"
            ]
          },
          "metadata": {},
          "execution_count": 9
        }
      ]
    },
    {
      "cell_type": "code",
      "source": [
        "evaluate_model(y_train, pipe.predict(X_train))"
      ],
      "metadata": {
        "colab": {
          "base_uri": "https://localhost:8080/"
        },
        "id": "o3TVzjxAL6pP",
        "outputId": "ae362fb0-9514-4300-e835-e4153b865700"
      },
      "execution_count": 10,
      "outputs": [
        {
          "output_type": "stream",
          "name": "stdout",
          "text": [
            "MAE 787.619263686797\n",
            " MSE 1234964.9023506837\n",
            " R^2 0.5827053939473481\n",
            " RMSE 1111.2897472534712\n"
          ]
        }
      ]
    },
    {
      "cell_type": "code",
      "source": [
        "# List of values to try for max_depth:\n",
        "max_depth_range = list(range(2, 36)) # will try every value between 2 and 36\n",
        "# List to store the score for each value of max_depth:\n",
        "r2 = []\n",
        "for depth in max_depth_range:\n",
        "    dec_tree = DecisionTreeRegressor(max_depth = depth, \n",
        "                             random_state = 42)\n",
        "    pipe = make_pipeline(col_trans, dec_tree)\n",
        "    pipe.fit(X_train, y_train)\n",
        "    score = pipe.score(X_test, y_test)\n",
        "    r2.append(score)"
      ],
      "metadata": {
        "id": "ntwTB-sHQpUZ"
      },
      "execution_count": 11,
      "outputs": []
    },
    {
      "cell_type": "code",
      "source": [
        "plt.plot(max_depth_range, r2)\n",
        "plt.xlabel('max_depth')\n",
        "plt.ylabel('R2');"
      ],
      "metadata": {
        "colab": {
          "base_uri": "https://localhost:8080/",
          "height": 280
        },
        "id": "Xd4HflSBRDYX",
        "outputId": "96edaa3c-c449-4c96-85db-183c57abfcb1"
      },
      "execution_count": 12,
      "outputs": [
        {
          "output_type": "display_data",
          "data": {
            "image/png": "[encoded data removed]",
            "text/plain": [
              "<Figure size 432x288 with 1 Axes>"
            ]
          },
          "metadata": {
            "needs_background": "light"
          }
        }
      ]
    },
    {
      "cell_type": "code",
      "source": [
        "print(r2)"
      ],
      "metadata": {
        "colab": {
          "base_uri": "https://localhost:8080/"
        },
        "id": "lQjRDvkLSp14",
        "outputId": "3a769771-ee88-435b-b0dd-7764545a6277"
      },
      "execution_count": 13,
      "outputs": [
        {
          "output_type": "stream",
          "name": "stdout",
          "text": [
            "[0.4337775044707164, 0.5242218617296539, 0.5839367270114887, 0.5960564372160061, 0.5846684022696164, 0.5756329789137498, 0.5566257704918428, 0.5470124412337426, 0.5331043109244693, 0.5321055035222457, 0.5144481581014448, 0.49978899762807083, 0.4883730297654587, 0.4765440617535407, 0.4719481833194099, 0.44193268325848634, 0.4425059255567467, 0.4248722488712996, 0.4246084640132005, 0.4144274173687833, 0.3951542354452102, 0.3697139064326802, 0.3552598518912923, 0.3195069933519127, 0.314200417956068, 0.30847396733514076, 0.30038877675680753, 0.28792307684363894, 0.2752950220559345, 0.27343653043684724, 0.26657811320368163, 0.27162052788541324, 0.25155609352284924, 0.25021616304167804]\n"
          ]
        }
      ]
    }
  ]
}